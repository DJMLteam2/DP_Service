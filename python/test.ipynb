{
 "cells": [
  {
   "cell_type": "code",
   "execution_count": 1,
   "metadata": {},
   "outputs": [],
   "source": [
    "import os\n",
    "import pickle\n",
    "from sklearn.feature_extraction.text import TfidfVectorizer\n",
    "from sklearn.metrics.pairwise import cosine_similarity\n",
    "import numpy as np\n",
    "import pandas as pd\n",
    "from konlpy.tag import Okt\n",
    "from typing import List\n",
    "from fastapi import FastAPI\n",
    "from fastapi.responses import JSONResponse\n",
    "from pydantic import BaseModel"
   ]
  },
  {
   "cell_type": "code",
   "execution_count": 63,
   "metadata": {},
   "outputs": [],
   "source": [
    "okt = Okt()\n",
    "df = pd.read_csv('./travel_spot_v1.csv')\n",
    "df['tf'] = df['tagName'] + df['treatMenu']"
   ]
  },
  {
   "cell_type": "code",
   "execution_count": 64,
   "metadata": {},
   "outputs": [],
   "source": [
    "spot_df = df[df['contentType'] != 39]\n",
    "food_df = df[df['contentType'] == 39]"
   ]
  },
  {
   "cell_type": "code",
   "execution_count": 65,
   "metadata": {},
   "outputs": [
    {
     "data": {
      "text/plain": [
       "(4634, 5883, 10517)"
      ]
     },
     "execution_count": 65,
     "metadata": {},
     "output_type": "execute_result"
    }
   ],
   "source": [
    "len(spot_df), len(food_df), len(df)"
   ]
  },
  {
   "cell_type": "code",
   "execution_count": 4,
   "metadata": {},
   "outputs": [],
   "source": [
    "vectorizer_spot = TfidfVectorizer()\n",
    "\n",
    "tag_list = [' '.join([j for j in okt.morphs(i) if len(j) > 1]) for i in spot_df['tagName'].tolist()]\n",
    "matrix_spot = vectorizer_spot.fit_transform(tag_list)\n",
    "\n",
    "# 각 지역에 대한 TF-IDF 행렬 계산\n",
    "city_matrices_spot = {}    \n",
    "for city in spot_df['city'].unique():\n",
    "    city_df = spot_df[spot_df['city'] == city]\n",
    "    city_tag_list = [' '.join([j for j in okt.morphs(i) if len(j) > 1]) for i in city_df['tagName'].tolist()]\n",
    "    city_matrices_spot[city] = vectorizer_spot.transform(city_tag_list)"
   ]
  },
  {
   "cell_type": "code",
   "execution_count": 5,
   "metadata": {},
   "outputs": [],
   "source": [
    "vectorizer_food = TfidfVectorizer()\n",
    "\n",
    "tag_list = [' '.join([j for j in okt.morphs(str(i)) if len(j) > 1]) for i in food_df['tf'].tolist()]\n",
    "matrix_food = vectorizer_food.fit_transform(tag_list)\n",
    "\n",
    "# 각 지역에 대한 TF-IDF 행렬 계산\n",
    "city_matrices_food = {}    \n",
    "for city in food_df['city'].unique():\n",
    "    city_df = food_df[food_df['city'] == city]\n",
    "    city_tag_list = [' '.join([j for j in okt.morphs(str(i)) if len(j) > 1]) for i in city_df['tf'].tolist()]\n",
    "    city_matrices_food[city] = vectorizer_food.transform(city_tag_list)"
   ]
  },
  {
   "cell_type": "code",
   "execution_count": 6,
   "metadata": {},
   "outputs": [],
   "source": [
    "\n",
    "# 저장\n",
    "with open('travel_model_v2.pkl', 'wb') as file:\n",
    "        pickle.dump({\"spot\":{\n",
    "                \"vectorizer\": vectorizer_spot,\n",
    "                \"matrix\": matrix_spot,\n",
    "                \"city_matrices\": city_matrices_spot\n",
    "        },\"food\":{\n",
    "                \"vectorizer\": vectorizer_food,\n",
    "                \"matrix\": matrix_food,\n",
    "                \"city_matrices\": city_matrices_food\n",
    "        }}, file)"
   ]
  },
  {
   "cell_type": "code",
   "execution_count": 7,
   "metadata": {},
   "outputs": [],
   "source": [
    "with open('./travel_model_v2.pkl', 'rb') as file:\n",
    "    loaded_data = pickle.load(file)\n",
    "    \n",
    "    vectorizer_spot = loaded_data[\"spot\"][\"vectorizer\"]\n",
    "    matrix_spot = loaded_data[\"spot\"][\"matrix\"]\n",
    "    city_matrices_spot = loaded_data[\"spot\"][\"city_matrices\"]\n",
    "\n",
    "    vectorizer_food = loaded_data[\"food\"][\"vectorizer\"]\n",
    "    matrix_food = loaded_data[\"food\"][\"matrix\"]\n",
    "    city_matrices_food = loaded_data[\"food\"][\"city_matrices\"]"
   ]
  },
  {
   "cell_type": "code",
   "execution_count": null,
   "metadata": {},
   "outputs": [],
   "source": [
    "#     # 미리 계산된 해당 지역의 TF-IDF 행렬 사용\n",
    "# if question.area == '전체':\n",
    "#     city_tfidf_matrix = tfidf_matrix\n",
    "# else:\n",
    "#     city_tfidf_matrix = city_tfidf_matrices.get(question.area)\n",
    "#     df = df[df['city']== f'{question.area}']"
   ]
  },
  {
   "cell_type": "code",
   "execution_count": 35,
   "metadata": {},
   "outputs": [
    {
     "data": {
      "text/plain": [
       "<351x5323 sparse matrix of type '<class 'numpy.float64'>'\n",
       "\twith 5212 stored elements in Compressed Sparse Row format>"
      ]
     },
     "execution_count": 35,
     "metadata": {},
     "output_type": "execute_result"
    }
   ],
   "source": [
    "city_matrices_spot['충남']"
   ]
  },
  {
   "cell_type": "code",
   "execution_count": 61,
   "metadata": {},
   "outputs": [
    {
     "name": "stdout",
     "output_type": "stream",
     "text": [
      "indices=  5\n",
      "df=  156\n",
      "2768200 인천 노가리해수욕장 0.20604354572803404 캠핑하며 차박하기 좋은 해변\n"
     ]
    }
   ],
   "source": [
    "area = '인천'\n",
    "question = '캠핑'\n",
    "\n",
    "df = spot_df[spot_df['city']== f'{area}']\n",
    "\n",
    "question_tfidf = vectorizer_spot.transform(okt.morphs(f'{question}'))\n",
    "\n",
    "cos_similarities = cosine_similarity(question_tfidf, city_matrices_spot[f'{area}'])\n",
    "sorted_indices = np.argsort(cos_similarities[0])[::-1][:5]\n",
    "print('indices= ',len(sorted_indices))\n",
    "print('df= ', len(df))\n",
    "# 식당인 것, 아닌 \n",
    "\n",
    "index = sorted_indices[0]\n",
    "\n",
    "\n",
    "\n",
    "print(\n",
    "str(df.iloc[index]['id']),\n",
    "str(df.iloc[index]['city']),\n",
    "str(df.iloc[index]['title']),\n",
    "float(cos_similarities[0][index]),\n",
    "str(df.iloc[index]['catchtitle']))\n",
    "\n"
   ]
  },
  {
   "cell_type": "code",
   "execution_count": 70,
   "metadata": {},
   "outputs": [
    {
     "name": "stdout",
     "output_type": "stream",
     "text": [
      "indices=  5\n",
      "df=  192\n",
      "2866244 대구 루미너스 0.42204924949455175 모던한 분위기의 한우 안심 스테이크 맛집\n"
     ]
    }
   ],
   "source": [
    "area = '대구'\n",
    "question = '피자'\n",
    "\n",
    "df = food_df[food_df['city']== f'{area}']\n",
    "\n",
    "question_tfidf = vectorizer_food.transform(okt.morphs(f'{question}'))\n",
    "\n",
    "cos_similarities = cosine_similarity(question_tfidf, city_matrices_food[f'{area}'])\n",
    "sorted_indices = np.argsort(cos_similarities[0])[::-1][:5]\n",
    "print('indices= ',len(sorted_indices))\n",
    "print('df= ', len(df))\n",
    "# 식당인 것, 아닌 \n",
    "\n",
    "index = sorted_indices[0]\n",
    "\n",
    "\n",
    "\n",
    "print(\n",
    "str(df.iloc[index]['id']),\n",
    "str(df.iloc[index]['city']),\n",
    "str(df.iloc[index]['title']),\n",
    "float(cos_similarities[0][index]),\n",
    "str(df.iloc[index]['catchtitle']))\n",
    "\n"
   ]
  },
  {
   "cell_type": "code",
   "execution_count": 14,
   "metadata": {},
   "outputs": [
    {
     "data": {
      "text/plain": [
       "63"
      ]
     },
     "execution_count": 14,
     "metadata": {},
     "output_type": "execute_result"
    }
   ],
   "source": [
    "np.argsort(cos_similarities[0])[::-1][0]"
   ]
  },
  {
   "cell_type": "code",
   "execution_count": 15,
   "metadata": {},
   "outputs": [
    {
     "data": {
      "text/plain": [
       "0.30805653331899097"
      ]
     },
     "execution_count": 15,
     "metadata": {},
     "output_type": "execute_result"
    }
   ],
   "source": [
    "cos_similarities[0][63]"
   ]
  },
  {
   "cell_type": "code",
   "execution_count": 27,
   "metadata": {},
   "outputs": [],
   "source": [
    "df = pd.read_csv('./travel_spot_v1.csv', index_col=0)"
   ]
  },
  {
   "cell_type": "code",
   "execution_count": 29,
   "metadata": {},
   "outputs": [],
   "source": [
    "okt = Okt()"
   ]
  },
  {
   "cell_type": "code",
   "execution_count": 35,
   "metadata": {},
   "outputs": [
    {
     "name": "stdout",
     "output_type": "stream",
     "text": [
      "여기여기\n"
     ]
    },
    {
     "data": {
      "text/plain": [
       "352"
      ]
     },
     "execution_count": 35,
     "metadata": {},
     "output_type": "execute_result"
    }
   ],
   "source": [
    "question_area = '인천'\n",
    "question_question = '효도여행'\n",
    "\n",
    "# 미리 계산된 해당 지역의 TF-IDF 행렬 사용\n",
    "if question_area == '전체':\n",
    "    city_tfidf_matrix = tfidf_matrix\n",
    "else:\n",
    "    city_tfidf_matrix = city_tfidf_matrices.get(question_area)\n",
    "    df = df[df['city']== f'{question_area}']\n",
    "\n",
    "print('여기여기')\n",
    "\n",
    "if city_tfidf_matrix is None:\n",
    "    print(JSONResponse(content={\"error\": f\"No data found for city: {question_area}\"}, status_code=404))\n",
    "\n",
    "# 질문과 선택된 지역의 TF-IDF로 유사도 계산\n",
    "question_tfidf = tfidf_vectorizer.transform(okt.morphs(question_question))\n",
    "cos_similarities = cosine_similarity(question_tfidf, city_tfidf_matrix)\n",
    "sorted_indices = np.argsort(cos_similarities[0])[::-1]\n",
    "len(sorted_indices)"
   ]
  },
  {
   "cell_type": "code",
   "execution_count": 81,
   "metadata": {},
   "outputs": [
    {
     "data": {
      "text/plain": [
       "([111, 112, 113, 114, 115], [351, 350, 296, 288, 289])"
      ]
     },
     "execution_count": 81,
     "metadata": {},
     "output_type": "execute_result"
    }
   ],
   "source": [
    "restaurant = sorted_indices[df.iloc[sorted_indices]['contentType'].eq(39)].tolist()[:5]\n",
    "non_restaurant = sorted_indices[~df.iloc[sorted_indices]['contentType'].eq(39)].tolist()[:5]\n",
    "\n",
    "restaurant,non_restaurant"
   ]
  },
  {
   "cell_type": "code",
   "execution_count": 62,
   "metadata": {},
   "outputs": [
    {
     "data": {
      "text/plain": [
       "(352, 352)"
      ]
     },
     "execution_count": 62,
     "metadata": {},
     "output_type": "execute_result"
    }
   ],
   "source": [
    "len(df), len(sorted_indices)"
   ]
  },
  {
   "cell_type": "code",
   "execution_count": 60,
   "metadata": {},
   "outputs": [
    {
     "data": {
      "text/plain": [
       "352"
      ]
     },
     "execution_count": 60,
     "metadata": {},
     "output_type": "execute_result"
    }
   ],
   "source": [
    "len(sorted_indices)"
   ]
  },
  {
   "cell_type": "code",
   "execution_count": 52,
   "metadata": {},
   "outputs": [
    {
     "name": "stdout",
     "output_type": "stream",
     "text": [
      "여기여기2\n"
     ]
    },
    {
     "data": {
      "text/plain": [
       "([111, 112, 113, 114, 115], [351, 350, 296, 288, 289])"
      ]
     },
     "execution_count": 52,
     "metadata": {},
     "output_type": "execute_result"
    }
   ],
   "source": [
    "\n",
    "print('여기여기2')\n",
    "\n",
    "from itertools import islice\n",
    "# 식당인 것, 아닌 것\n",
    "restaurant = islice((index for index in sorted_indices if df.iloc[index]['contentType'] == 39 ), 5)\n",
    "non_restaurant = islice((index for index in sorted_indices if df.iloc[index]['contentType'] != 39 ), 5)\n",
    "\n",
    "list(restaurant), list(non_restaurant)"
   ]
  },
  {
   "cell_type": "code",
   "execution_count": 51,
   "metadata": {},
   "outputs": [
    {
     "data": {
      "text/plain": [
       "'인천'"
      ]
     },
     "execution_count": 51,
     "metadata": {},
     "output_type": "execute_result"
    }
   ],
   "source": [
    "str(df.iloc[111]['city'])"
   ]
  },
  {
   "cell_type": "code",
   "execution_count": 55,
   "metadata": {},
   "outputs": [
    {
     "data": {
      "text/plain": [
       "'2758144'"
      ]
     },
     "execution_count": 55,
     "metadata": {},
     "output_type": "execute_result"
    }
   ],
   "source": [
    "str(df.iloc[111]['id'])"
   ]
  },
  {
   "cell_type": "code",
   "execution_count": 53,
   "metadata": {},
   "outputs": [],
   "source": [
    "def add_to_similar_tags(sorted_indices,similar_tags):\n",
    "    bag = []\n",
    "    for index in sorted_indices:\n",
    "        print(\"Current index:\", index)\n",
    "        bag.append({\n",
    "            \"id\": str(df.iloc[index]['id']),\n",
    "            \"area\": str(df.iloc[index]['city'])})\n",
    "        similar_tags.append(bag)"
   ]
  },
  {
   "cell_type": "code",
   "execution_count": 78,
   "metadata": {},
   "outputs": [
    {
     "data": {
      "text/plain": [
       "<itertools.islice at 0x7f1b75d94950>"
      ]
     },
     "execution_count": 78,
     "metadata": {},
     "output_type": "execute_result"
    }
   ],
   "source": [
    "restaurant\n"
   ]
  },
  {
   "cell_type": "code",
   "execution_count": 57,
   "metadata": {},
   "outputs": [
    {
     "name": "stdout",
     "output_type": "stream",
     "text": [
      "여기여기 3\n",
      "여기여기4\n"
     ]
    },
    {
     "data": {
      "text/plain": [
       "[[], []]"
      ]
     },
     "execution_count": 57,
     "metadata": {},
     "output_type": "execute_result"
    }
   ],
   "source": [
    "\n",
    "# 결과를 저장할 리스트 초기화\n",
    "similar_tags = []\n",
    "print('여기여기 3')\n",
    "# 리스트로 추가\n",
    "def add_to_similar_tags(sorted_indices,similar_tags):\n",
    "    bag = []\n",
    "    for index in sorted_indices:\n",
    "        print(\"Current index:\", index)\n",
    "        bag.append({\n",
    "            \"id\": str(df.iloc[index]['id']),\n",
    "            \"area\": str(df.iloc[index]['city']),\n",
    "            \"title\": str(df.iloc[index]['title']),\n",
    "            \"similarity\": float(cos_similarities[0][index]),\n",
    "            \"catchtitle\": str(df.iloc[index]['catchtitle']),\n",
    "            # \"detail\": str(df.iloc[index]['detail']),\n",
    "            \"treatMenu\": str(df.iloc[index]['treatMenu']),\n",
    "            \"tagName\": str(df.iloc[index]['tagName']),\n",
    "            \"addr\": str(df.iloc[index]['addr']),\n",
    "            \"info\": str(df.iloc[index]['info']),\n",
    "            # \"lat\": str(df.iloc[index]['parking']),\n",
    "            \"useTime\": str(df.iloc[index]['useTime']),\n",
    "            \"conLike\": str(df.iloc[index]['conLike']),\n",
    "            \"conRead\": str(df.iloc[index]['conRead']),\n",
    "            \"conShare\": str(df.iloc[index]['conShare']),\n",
    "            # \"overView\": str(df.iloc[index]['overView']),\n",
    "            \"lat\": str(df.iloc[index]['lat']),\n",
    "            \"lon\": str(df.iloc[index]['lon'])\n",
    "            \n",
    "            })\n",
    "    similar_tags.append(bag)\n",
    "print('여기여기4')\n",
    "\n",
    "# 함수를 사용\n",
    "add_to_similar_tags(non_restaurant,similar_tags)\n",
    "add_to_similar_tags(restaurant,similar_tags)\n",
    "similar_tags"
   ]
  },
  {
   "cell_type": "code",
   "execution_count": 76,
   "metadata": {},
   "outputs": [
    {
     "data": {
      "text/plain": [
       "352"
      ]
     },
     "execution_count": 76,
     "metadata": {},
     "output_type": "execute_result"
    }
   ],
   "source": [
    "sorted_indices.__len__()"
   ]
  },
  {
   "cell_type": "code",
   "execution_count": 73,
   "metadata": {},
   "outputs": [
    {
     "name": "stdout",
     "output_type": "stream",
     "text": [
      "sorted_indices length: 0\n",
      "Adding bag to similar_tags: []\n",
      "sorted_indices length: 0\n",
      "Adding bag to similar_tags: []\n",
      "Final similar_tags: [[], []]\n"
     ]
    }
   ],
   "source": [
    "# 결과를 저장할 리스트 초기화\n",
    "similar_tags = []\n",
    "\n",
    "def add_to_similar_tags(sorted_indices):\n",
    "    bag = []\n",
    "    sorted_indices = list(sorted_indices)[:len(df)]\n",
    "    print(\"sorted_indices length:\", len(sorted_indices))\n",
    "    for index in sorted_indices:\n",
    "        print(\"Processing index:\", index)\n",
    "        if 0 <= index < len(df):\n",
    "            print(\"Adding to bag:\", index)\n",
    "            bag.append({\n",
    "                \"id\": str(df.iloc[index]['id']),\n",
    "                \"area\": str(df.iloc[index]['city']),\n",
    "                \"title\": str(df.iloc[index]['title']),\n",
    "                \"similarity\": float(cos_similarities[0][index]),\n",
    "                \"catchtitle\": str(df.iloc[index]['catchtitle']),\n",
    "                \"treatMenu\": str(df.iloc[index]['treatMenu']),\n",
    "                \"tagName\": str(df.iloc[index]['tagName']),\n",
    "                \"addr\": str(df.iloc[index]['addr']),\n",
    "                \"info\": str(df.iloc[index]['info']),\n",
    "                \"useTime\": str(df.iloc[index]['useTime']),\n",
    "                \"conLike\": str(df.iloc[index]['conLike']),\n",
    "                \"conRead\": str(df.iloc[index]['conRead']),\n",
    "                \"conShare\": str(df.iloc[index]['conShare']),\n",
    "                \"lat\": str(df.iloc[index]['lat']),\n",
    "                \"lon\": str(df.iloc[index]['lon'])\n",
    "            })\n",
    "        else:\n",
    "            print(\"Index out of bounds:\", index)\n",
    "    print(\"Adding bag to similar_tags:\", bag)\n",
    "    similar_tags.append(bag)\n",
    "\n",
    "# 함수를 사용\n",
    "add_to_similar_tags(non_restaurant)\n",
    "add_to_similar_tags(restaurant)\n",
    "\n",
    "print(\"Final similar_tags:\", similar_tags)\n"
   ]
  }
 ],
 "metadata": {
  "kernelspec": {
   "display_name": "Python 3",
   "language": "python",
   "name": "python3"
  },
  "language_info": {
   "codemirror_mode": {
    "name": "ipython",
    "version": 3
   },
   "file_extension": ".py",
   "mimetype": "text/x-python",
   "name": "python",
   "nbconvert_exporter": "python",
   "pygments_lexer": "ipython3",
   "version": "3.8.18"
  }
 },
 "nbformat": 4,
 "nbformat_minor": 2
}
