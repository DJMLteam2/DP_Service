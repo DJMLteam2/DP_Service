{
 "cells": [
  {
   "cell_type": "code",
   "execution_count": 1,
   "metadata": {},
   "outputs": [],
   "source": [
    "import os\n",
    "import pickle\n",
    "from sklearn.feature_extraction.text import TfidfVectorizer\n",
    "from sklearn.metrics.pairwise import cosine_similarity\n",
    "import numpy as np\n",
    "import pandas as pd\n",
    "from konlpy.tag import Okt\n"
   ]
  },
  {
   "cell_type": "code",
   "execution_count": 2,
   "metadata": {},
   "outputs": [
    {
     "ename": "AttributeError",
     "evalue": "'list' object has no attribute 'tolist'",
     "output_type": "error",
     "traceback": [
      "\u001b[0;31m---------------------------------------------------------------------------\u001b[0m",
      "\u001b[0;31mAttributeError\u001b[0m                            Traceback (most recent call last)",
      "\u001b[1;32m/home/doxg/code/DP_Service/python/test.ipynb Cell 2\u001b[0m line \u001b[0;36m2\n\u001b[1;32m      <a href='vscode-notebook-cell://wsl%2Bubuntu/home/doxg/code/DP_Service/python/test.ipynb#X52sdnNjb2RlLXJlbW90ZQ%3D%3D?line=0'>1</a>\u001b[0m sor \u001b[39m=\u001b[39m [\u001b[39m3512\u001b[39m, \u001b[39m5882\u001b[39m, \u001b[39m1963\u001b[39m, \u001b[39m1955\u001b[39m, \u001b[39m1956\u001b[39m]\n\u001b[0;32m----> <a href='vscode-notebook-cell://wsl%2Bubuntu/home/doxg/code/DP_Service/python/test.ipynb#X52sdnNjb2RlLXJlbW90ZQ%3D%3D?line=1'>2</a>\u001b[0m sor\u001b[39m.\u001b[39;49mtolist()\n",
      "\u001b[0;31mAttributeError\u001b[0m: 'list' object has no attribute 'tolist'"
     ]
    }
   ],
   "source": [
    "sor = [3512, 5882, 1963, 1955, 1956]\n",
    "sor.tolist()"
   ]
  },
  {
   "cell_type": "code",
   "execution_count": 9,
   "metadata": {},
   "outputs": [],
   "source": [
    "test = ['andf', 1]"
   ]
  },
  {
   "cell_type": "code",
   "execution_count": 10,
   "metadata": {},
   "outputs": [
    {
     "name": "stdout",
     "output_type": "stream",
     "text": [
      "['andf', 1]\n"
     ]
    }
   ],
   "source": [
    "print((str(test)))"
   ]
  },
  {
   "cell_type": "code",
   "execution_count": 2,
   "metadata": {},
   "outputs": [],
   "source": [
    "okt = Okt()\n",
    "df = pd.read_csv('./travel_spot_v1.csv')\n",
    "df['tf'] = df['tagName'] + df['treatMenu']"
   ]
  },
  {
   "cell_type": "code",
   "execution_count": 3,
   "metadata": {},
   "outputs": [
    {
     "data": {
      "text/html": [
       "<div>\n",
       "<style scoped>\n",
       "    .dataframe tbody tr th:only-of-type {\n",
       "        vertical-align: middle;\n",
       "    }\n",
       "\n",
       "    .dataframe tbody tr th {\n",
       "        vertical-align: top;\n",
       "    }\n",
       "\n",
       "    .dataframe thead th {\n",
       "        text-align: right;\n",
       "    }\n",
       "</style>\n",
       "<table border=\"1\" class=\"dataframe\">\n",
       "  <thead>\n",
       "    <tr style=\"text-align: right;\">\n",
       "      <th></th>\n",
       "      <th>Unnamed: 0</th>\n",
       "      <th>id</th>\n",
       "      <th>city</th>\n",
       "      <th>cityCode</th>\n",
       "      <th>contentType</th>\n",
       "      <th>title</th>\n",
       "      <th>catchtitle</th>\n",
       "      <th>overView</th>\n",
       "      <th>treatMenu</th>\n",
       "      <th>conLike</th>\n",
       "      <th>...</th>\n",
       "      <th>imgPath</th>\n",
       "      <th>addr</th>\n",
       "      <th>info</th>\n",
       "      <th>parking</th>\n",
       "      <th>useTime</th>\n",
       "      <th>tagName</th>\n",
       "      <th>detail</th>\n",
       "      <th>lat</th>\n",
       "      <th>lon</th>\n",
       "      <th>tf</th>\n",
       "    </tr>\n",
       "  </thead>\n",
       "  <tbody>\n",
       "    <tr>\n",
       "      <th>0</th>\n",
       "      <td>0</td>\n",
       "      <td>2837964</td>\n",
       "      <td>전체</td>\n",
       "      <td>1</td>\n",
       "      <td>39</td>\n",
       "      <td>봉희설렁탕 본점</td>\n",
       "      <td>40년 전통의 은평구 설렁탕집</td>\n",
       "      <td>봉희설렁탕은 서울 은평구 신사동에 있다. 6호선 새절역 4번 출구 인근에 있다. 이...</td>\n",
       "      <td>설렁탕, 양곰탕, 설곰탕, 얼큰설곰탕, 특설렁탕, 꼬리곰탕, 양무침, 황태구이, 도...</td>\n",
       "      <td>1</td>\n",
       "      <td>...</td>\n",
       "      <td>https://cdn.visitkorea.or.kr/img/call?cmd=VIEW...</td>\n",
       "      <td>서울특별시 은평구 증산로 413 동현빌딩</td>\n",
       "      <td>02-302-9754</td>\n",
       "      <td>있음 (발렛파킹)</td>\n",
       "      <td>06:00~22:00</td>\n",
       "      <td>백련산맛집,봉희설렁탕,불광천가로수길맛집,새절역맛집,설렁탕맛집,설렁탕맛집,음식</td>\n",
       "      <td>부대시설:무선인터넷</td>\n",
       "      <td>37.593186</td>\n",
       "      <td>126.913862</td>\n",
       "      <td>백련산맛집,봉희설렁탕,불광천가로수길맛집,새절역맛집,설렁탕맛집,설렁탕맛집,음식설렁탕,...</td>\n",
       "    </tr>\n",
       "    <tr>\n",
       "      <th>1</th>\n",
       "      <td>1</td>\n",
       "      <td>2845652</td>\n",
       "      <td>전체</td>\n",
       "      <td>1</td>\n",
       "      <td>39</td>\n",
       "      <td>벙구갈비 응암점</td>\n",
       "      <td>응암동 전통 수제 숙성 갈비 전문점</td>\n",
       "      <td>벙구갈비 응암점은 지하철 6호선 응암역 4번 출구 은명초등학교 부근에 있다. 매장 ...</td>\n",
       "      <td>수제갈비 (350g), 수제생갈비 (300g), 수제그린포크 (250g), \\n수제...</td>\n",
       "      <td>1</td>\n",
       "      <td>...</td>\n",
       "      <td>https://cdn.visitkorea.or.kr/img/call?cmd=VIEW...</td>\n",
       "      <td>서울특별시 은평구 응암로 269</td>\n",
       "      <td>02-352-5092</td>\n",
       "      <td>있음</td>\n",
       "      <td>매일 11:00 ~ 23:00</td>\n",
       "      <td>벙구갈비,벙구갈비응암점,은평구맛집,은평구맛집,음식,응암동맛집,응암역맛집</td>\n",
       "      <td>화장실:남녀 구분</td>\n",
       "      <td>37.596061</td>\n",
       "      <td>126.918784</td>\n",
       "      <td>벙구갈비,벙구갈비응암점,은평구맛집,은평구맛집,음식,응암동맛집,응암역맛집수제갈비 (3...</td>\n",
       "    </tr>\n",
       "    <tr>\n",
       "      <th>2</th>\n",
       "      <td>2</td>\n",
       "      <td>2757826</td>\n",
       "      <td>전체</td>\n",
       "      <td>1</td>\n",
       "      <td>39</td>\n",
       "      <td>영동설렁탕</td>\n",
       "      <td>NaN</td>\n",
       "      <td>30여 년간 한자리에서 운영된 이 식당은 아직도 허름한 식당 외관을 고수하고 있다....</td>\n",
       "      <td>국밥</td>\n",
       "      <td>0</td>\n",
       "      <td>...</td>\n",
       "      <td>https://cdn.visitkorea.or.kr/img/call?cmd=VIEW...</td>\n",
       "      <td>서울특별시 서초구 강남대로101안길 24</td>\n",
       "      <td>02-543-4716</td>\n",
       "      <td>있음(40대주차가능)</td>\n",
       "      <td>00:00 - 24:00</td>\n",
       "      <td>서초국밥,서초설렁탕,서초수육,서초영동설렁탕,영동설렁탕,음식</td>\n",
       "      <td>화장실:있음(남/녀 구분)\\n</td>\n",
       "      <td>37.516211</td>\n",
       "      <td>127.017402</td>\n",
       "      <td>서초국밥,서초설렁탕,서초수육,서초영동설렁탕,영동설렁탕,음식국밥</td>\n",
       "    </tr>\n",
       "    <tr>\n",
       "      <th>3</th>\n",
       "      <td>3</td>\n",
       "      <td>398352</td>\n",
       "      <td>전체</td>\n",
       "      <td>1</td>\n",
       "      <td>39</td>\n",
       "      <td>마복림원조할머니집떡볶이</td>\n",
       "      <td>NaN</td>\n",
       "      <td>50년 이어온 전통의 맛, 떡볶이 대표 브랜드로 유명하다. 서울특별시 중구에 있는 ...</td>\n",
       "      <td>떡볶이 / 튀김</td>\n",
       "      <td>2</td>\n",
       "      <td>...</td>\n",
       "      <td>https://cdn.visitkorea.or.kr/img/call?cmd=VIEW...</td>\n",
       "      <td>서울특별시 중구 다산로35길 5</td>\n",
       "      <td>02-2232-8930</td>\n",
       "      <td>가능</td>\n",
       "      <td>09:00-00:00</td>\n",
       "      <td>떡볶이,마복림떡볶이,맛집,서울맛집추천,신당동맛집,음식</td>\n",
       "      <td>화장실:업소내, 남녀공용 화장실</td>\n",
       "      <td>37.563222</td>\n",
       "      <td>127.015115</td>\n",
       "      <td>떡볶이,마복림떡볶이,맛집,서울맛집추천,신당동맛집,음식떡볶이 / 튀김</td>\n",
       "    </tr>\n",
       "    <tr>\n",
       "      <th>4</th>\n",
       "      <td>4</td>\n",
       "      <td>2721659</td>\n",
       "      <td>전체</td>\n",
       "      <td>1</td>\n",
       "      <td>39</td>\n",
       "      <td>태극당</td>\n",
       "      <td>서울에서 가장 맛있고 오래된 빵집</td>\n",
       "      <td>태극당은 서울에서 가장 오래된 빵집으로 1945년 광복의 때를 기다린 듯 우리 민족...</td>\n",
       "      <td>모나카 / 버터케익 / 야채 사라다 / 고방 카스테라 등</td>\n",
       "      <td>7</td>\n",
       "      <td>...</td>\n",
       "      <td>https://cdn.visitkorea.or.kr/img/call?cmd=VIEW...</td>\n",
       "      <td>서울특별시 중구 동호로24길 7</td>\n",
       "      <td>02-2279-3152</td>\n",
       "      <td>NaN</td>\n",
       "      <td>08:00~21:00</td>\n",
       "      <td>데이트,베이커리,복고풍,신선한,옛날맛,옛날빵,옛날빵집,옛스러운분위기,음식,체인점</td>\n",
       "      <td>화장실:남/녀 화장실 구분</td>\n",
       "      <td>37.559581</td>\n",
       "      <td>127.005108</td>\n",
       "      <td>데이트,베이커리,복고풍,신선한,옛날맛,옛날빵,옛날빵집,옛스러운분위기,음식,체인점모나...</td>\n",
       "    </tr>\n",
       "    <tr>\n",
       "      <th>...</th>\n",
       "      <td>...</td>\n",
       "      <td>...</td>\n",
       "      <td>...</td>\n",
       "      <td>...</td>\n",
       "      <td>...</td>\n",
       "      <td>...</td>\n",
       "      <td>...</td>\n",
       "      <td>...</td>\n",
       "      <td>...</td>\n",
       "      <td>...</td>\n",
       "      <td>...</td>\n",
       "      <td>...</td>\n",
       "      <td>...</td>\n",
       "      <td>...</td>\n",
       "      <td>...</td>\n",
       "      <td>...</td>\n",
       "      <td>...</td>\n",
       "      <td>...</td>\n",
       "      <td>...</td>\n",
       "      <td>...</td>\n",
       "      <td>...</td>\n",
       "    </tr>\n",
       "    <tr>\n",
       "      <th>21029</th>\n",
       "      <td>21029</td>\n",
       "      <td>126440</td>\n",
       "      <td>제주</td>\n",
       "      <td>39</td>\n",
       "      <td>12</td>\n",
       "      <td>안덕계곡</td>\n",
       "      <td>자연 풍광을 즐기는 계곡</td>\n",
       "      <td>안덕계곡은 서귀포 안덕면의 감산리 마을을 지나 바다로 유입되는 창고천 하류에 형성된...</td>\n",
       "      <td>NaN</td>\n",
       "      <td>2</td>\n",
       "      <td>...</td>\n",
       "      <td>https://cdn.visitkorea.or.kr/img/call?cmd=VIEW...</td>\n",
       "      <td>제주특별자치도 서귀포시 안덕면 일주서로 1524</td>\n",
       "      <td>064-710-6653 (제주도청세계유산본부:상록수림담당)&lt;br&gt;\\n064-732-...</td>\n",
       "      <td>주차 가능</td>\n",
       "      <td>상시개방</td>\n",
       "      <td>경치좋은곳,계곡,관광지,생태관광지,안덕계곡,연인과함께,자연,자연좋은곳,제주권</td>\n",
       "      <td>입 장 료:무료</td>\n",
       "      <td>33.258440</td>\n",
       "      <td>126.352993</td>\n",
       "      <td>NaN</td>\n",
       "    </tr>\n",
       "    <tr>\n",
       "      <th>21030</th>\n",
       "      <td>21030</td>\n",
       "      <td>759595</td>\n",
       "      <td>제주</td>\n",
       "      <td>39</td>\n",
       "      <td>14</td>\n",
       "      <td>제주도립미술관</td>\n",
       "      <td>제주다운 미술관</td>\n",
       "      <td>제주도립미술관은 아름답고 청정한 제주의 자연 속에 세워진 ‘예술의 빛과 숨결이 넘치...</td>\n",
       "      <td>NaN</td>\n",
       "      <td>2</td>\n",
       "      <td>...</td>\n",
       "      <td>https://cdn.visitkorea.or.kr/img/call?cmd=VIEW...</td>\n",
       "      <td>제주특별자치도 제주시 1100로 2894-78</td>\n",
       "      <td>064-710-4300</td>\n",
       "      <td>가능</td>\n",
       "      <td>09:00~18:00 (7월~9월 09:00~20:00)&lt;br&gt;\\n※ 매표는 관람시...</td>\n",
       "      <td>문화시설,문화예술,문화예술공간,미술관,복합문화공간,산책하기좋은곳,실내여행지,연인과함...</td>\n",
       "      <td>대관안내:[대관시설] 기획전시실(대), 기획전시실(소), 시민갤러리, 강당, 세미나...</td>\n",
       "      <td>33.452549</td>\n",
       "      <td>126.489752</td>\n",
       "      <td>NaN</td>\n",
       "    </tr>\n",
       "    <tr>\n",
       "      <th>21031</th>\n",
       "      <td>21031</td>\n",
       "      <td>126443</td>\n",
       "      <td>제주</td>\n",
       "      <td>39</td>\n",
       "      <td>12</td>\n",
       "      <td>화순금모래해변</td>\n",
       "      <td>검은 모래밭이 펼쳐진 해변이 아름다운 곳</td>\n",
       "      <td>화순금모래 해변은 99,174m²(약 3만 평)의 검은 모래밭이 펼쳐진 곳으로 주변...</td>\n",
       "      <td>NaN</td>\n",
       "      <td>3</td>\n",
       "      <td>...</td>\n",
       "      <td>https://cdn.visitkorea.or.kr/img/call?cmd=VIEW...</td>\n",
       "      <td>제주특별자치도 서귀포시 안덕면 화순해안로</td>\n",
       "      <td>064-760-4372 (안덕면 사무소)</td>\n",
       "      <td>있음</td>\n",
       "      <td>상시개방(해수욕장은 매년 상이)</td>\n",
       "      <td>가족여행,관광지,바다풍경,바다풍경여행,아이와함께,여름방학가볼만한곳,여름여행,여름휴가...</td>\n",
       "      <td>화장실:있음(남/녀구분)</td>\n",
       "      <td>33.240700</td>\n",
       "      <td>126.333515</td>\n",
       "      <td>NaN</td>\n",
       "    </tr>\n",
       "    <tr>\n",
       "      <th>21032</th>\n",
       "      <td>21032</td>\n",
       "      <td>2414812</td>\n",
       "      <td>제주</td>\n",
       "      <td>39</td>\n",
       "      <td>12</td>\n",
       "      <td>신산공원</td>\n",
       "      <td>여유롭게 산책하며 휴식할 수 있는 공원</td>\n",
       "      <td>신산공원은 올림픽 성화의 국내도착을 기념하는 기념물이 세워져 있는 88 서울 올림픽...</td>\n",
       "      <td>NaN</td>\n",
       "      <td>1</td>\n",
       "      <td>...</td>\n",
       "      <td>https://cdn.visitkorea.or.kr/img/call?cmd=VIEW...</td>\n",
       "      <td>제주특별자치도 제주시 신산로 92-12</td>\n",
       "      <td>064-726-0885</td>\n",
       "      <td>있음</td>\n",
       "      <td>NaN</td>\n",
       "      <td>걷기길,관광지,나들이,당일치기여행,산책길,산책코스,산책하기,산책하기좋은곳,신산공원,...</td>\n",
       "      <td>화장실:있음(남/녀구분)</td>\n",
       "      <td>33.505280</td>\n",
       "      <td>126.533792</td>\n",
       "      <td>NaN</td>\n",
       "    </tr>\n",
       "    <tr>\n",
       "      <th>21033</th>\n",
       "      <td>21033</td>\n",
       "      <td>130461</td>\n",
       "      <td>제주</td>\n",
       "      <td>39</td>\n",
       "      <td>14</td>\n",
       "      <td>국립제주박물관</td>\n",
       "      <td>독특하고 고유한 탐라문화를 볼 수 있는 곳</td>\n",
       "      <td>2001년 6월 15일 개관한 국립제주박물관은 제주의 역사와 문화유산을 체계적으로 ...</td>\n",
       "      <td>NaN</td>\n",
       "      <td>1</td>\n",
       "      <td>...</td>\n",
       "      <td>https://cdn.visitkorea.or.kr/img/call?cmd=VIEW...</td>\n",
       "      <td>제주특별자치도 제주시 일주동로 17</td>\n",
       "      <td>국립제주박물관 064-720-8000</td>\n",
       "      <td>주차 가능</td>\n",
       "      <td>평일(화~일) : 09:00~18:00</td>\n",
       "      <td>가족여행,국립제주박물관,문화시설,미세먼지_피하는_실내여행,실내관광지,실내여행지,아이...</td>\n",
       "      <td>예약안내:단체관람시 사전예약</td>\n",
       "      <td>33.513410</td>\n",
       "      <td>126.548912</td>\n",
       "      <td>NaN</td>\n",
       "    </tr>\n",
       "  </tbody>\n",
       "</table>\n",
       "<p>21034 rows × 22 columns</p>\n",
       "</div>"
      ],
      "text/plain": [
       "       Unnamed: 0       id city  cityCode  contentType         title  \\\n",
       "0               0  2837964   전체         1           39      봉희설렁탕 본점   \n",
       "1               1  2845652   전체         1           39      벙구갈비 응암점   \n",
       "2               2  2757826   전체         1           39         영동설렁탕   \n",
       "3               3   398352   전체         1           39  마복림원조할머니집떡볶이   \n",
       "4               4  2721659   전체         1           39           태극당   \n",
       "...           ...      ...  ...       ...          ...           ...   \n",
       "21029       21029   126440   제주        39           12          안덕계곡   \n",
       "21030       21030   759595   제주        39           14       제주도립미술관   \n",
       "21031       21031   126443   제주        39           12       화순금모래해변   \n",
       "21032       21032  2414812   제주        39           12          신산공원   \n",
       "21033       21033   130461   제주        39           14       국립제주박물관   \n",
       "\n",
       "                    catchtitle  \\\n",
       "0             40년 전통의 은평구 설렁탕집   \n",
       "1          응암동 전통 수제 숙성 갈비 전문점   \n",
       "2                          NaN   \n",
       "3                          NaN   \n",
       "4           서울에서 가장 맛있고 오래된 빵집   \n",
       "...                        ...   \n",
       "21029            자연 풍광을 즐기는 계곡   \n",
       "21030                 제주다운 미술관   \n",
       "21031   검은 모래밭이 펼쳐진 해변이 아름다운 곳   \n",
       "21032    여유롭게 산책하며 휴식할 수 있는 공원   \n",
       "21033  독특하고 고유한 탐라문화를 볼 수 있는 곳   \n",
       "\n",
       "                                                overView  \\\n",
       "0      봉희설렁탕은 서울 은평구 신사동에 있다. 6호선 새절역 4번 출구 인근에 있다. 이...   \n",
       "1      벙구갈비 응암점은 지하철 6호선 응암역 4번 출구 은명초등학교 부근에 있다. 매장 ...   \n",
       "2      30여 년간 한자리에서 운영된 이 식당은 아직도 허름한 식당 외관을 고수하고 있다....   \n",
       "3      50년 이어온 전통의 맛, 떡볶이 대표 브랜드로 유명하다. 서울특별시 중구에 있는 ...   \n",
       "4      태극당은 서울에서 가장 오래된 빵집으로 1945년 광복의 때를 기다린 듯 우리 민족...   \n",
       "...                                                  ...   \n",
       "21029  안덕계곡은 서귀포 안덕면의 감산리 마을을 지나 바다로 유입되는 창고천 하류에 형성된...   \n",
       "21030  제주도립미술관은 아름답고 청정한 제주의 자연 속에 세워진 ‘예술의 빛과 숨결이 넘치...   \n",
       "21031  화순금모래 해변은 99,174m²(약 3만 평)의 검은 모래밭이 펼쳐진 곳으로 주변...   \n",
       "21032  신산공원은 올림픽 성화의 국내도착을 기념하는 기념물이 세워져 있는 88 서울 올림픽...   \n",
       "21033  2001년 6월 15일 개관한 국립제주박물관은 제주의 역사와 문화유산을 체계적으로 ...   \n",
       "\n",
       "                                               treatMenu  conLike  ...  \\\n",
       "0      설렁탕, 양곰탕, 설곰탕, 얼큰설곰탕, 특설렁탕, 꼬리곰탕, 양무침, 황태구이, 도...        1  ...   \n",
       "1      수제갈비 (350g), 수제생갈비 (300g), 수제그린포크 (250g), \\n수제...        1  ...   \n",
       "2                                                     국밥        0  ...   \n",
       "3                                               떡볶이 / 튀김        2  ...   \n",
       "4                        모나카 / 버터케익 / 야채 사라다 / 고방 카스테라 등        7  ...   \n",
       "...                                                  ...      ...  ...   \n",
       "21029                                                NaN        2  ...   \n",
       "21030                                                NaN        2  ...   \n",
       "21031                                                NaN        3  ...   \n",
       "21032                                                NaN        1  ...   \n",
       "21033                                                NaN        1  ...   \n",
       "\n",
       "                                                 imgPath  \\\n",
       "0      https://cdn.visitkorea.or.kr/img/call?cmd=VIEW...   \n",
       "1      https://cdn.visitkorea.or.kr/img/call?cmd=VIEW...   \n",
       "2      https://cdn.visitkorea.or.kr/img/call?cmd=VIEW...   \n",
       "3      https://cdn.visitkorea.or.kr/img/call?cmd=VIEW...   \n",
       "4      https://cdn.visitkorea.or.kr/img/call?cmd=VIEW...   \n",
       "...                                                  ...   \n",
       "21029  https://cdn.visitkorea.or.kr/img/call?cmd=VIEW...   \n",
       "21030  https://cdn.visitkorea.or.kr/img/call?cmd=VIEW...   \n",
       "21031  https://cdn.visitkorea.or.kr/img/call?cmd=VIEW...   \n",
       "21032  https://cdn.visitkorea.or.kr/img/call?cmd=VIEW...   \n",
       "21033  https://cdn.visitkorea.or.kr/img/call?cmd=VIEW...   \n",
       "\n",
       "                             addr  \\\n",
       "0          서울특별시 은평구 증산로 413 동현빌딩   \n",
       "1               서울특별시 은평구 응암로 269   \n",
       "2          서울특별시 서초구 강남대로101안길 24   \n",
       "3               서울특별시 중구 다산로35길 5   \n",
       "4               서울특별시 중구 동호로24길 7   \n",
       "...                           ...   \n",
       "21029  제주특별자치도 서귀포시 안덕면 일주서로 1524   \n",
       "21030   제주특별자치도 제주시 1100로 2894-78   \n",
       "21031      제주특별자치도 서귀포시 안덕면 화순해안로   \n",
       "21032       제주특별자치도 제주시 신산로 92-12   \n",
       "21033         제주특별자치도 제주시 일주동로 17   \n",
       "\n",
       "                                                    info      parking  \\\n",
       "0                                            02-302-9754    있음 (발렛파킹)   \n",
       "1                                            02-352-5092           있음   \n",
       "2                                            02-543-4716  있음(40대주차가능)   \n",
       "3                                           02-2232-8930           가능   \n",
       "4                                           02-2279-3152          NaN   \n",
       "...                                                  ...          ...   \n",
       "21029  064-710-6653 (제주도청세계유산본부:상록수림담당)<br>\\n064-732-...        주차 가능   \n",
       "21030                                       064-710-4300           가능   \n",
       "21031                             064-760-4372 (안덕면 사무소)           있음   \n",
       "21032                                       064-726-0885           있음   \n",
       "21033                               국립제주박물관 064-720-8000        주차 가능   \n",
       "\n",
       "                                                 useTime  \\\n",
       "0                                            06:00~22:00   \n",
       "1                                       매일 11:00 ~ 23:00   \n",
       "2                                          00:00 - 24:00   \n",
       "3                                            09:00-00:00   \n",
       "4                                            08:00~21:00   \n",
       "...                                                  ...   \n",
       "21029                                               상시개방   \n",
       "21030  09:00~18:00 (7월~9월 09:00~20:00)<br>\\n※ 매표는 관람시...   \n",
       "21031                                  상시개방(해수욕장은 매년 상이)   \n",
       "21032                                                NaN   \n",
       "21033                              평일(화~일) : 09:00~18:00   \n",
       "\n",
       "                                                 tagName  \\\n",
       "0             백련산맛집,봉희설렁탕,불광천가로수길맛집,새절역맛집,설렁탕맛집,설렁탕맛집,음식   \n",
       "1                벙구갈비,벙구갈비응암점,은평구맛집,은평구맛집,음식,응암동맛집,응암역맛집   \n",
       "2                       서초국밥,서초설렁탕,서초수육,서초영동설렁탕,영동설렁탕,음식   \n",
       "3                          떡볶이,마복림떡볶이,맛집,서울맛집추천,신당동맛집,음식   \n",
       "4           데이트,베이커리,복고풍,신선한,옛날맛,옛날빵,옛날빵집,옛스러운분위기,음식,체인점   \n",
       "...                                                  ...   \n",
       "21029         경치좋은곳,계곡,관광지,생태관광지,안덕계곡,연인과함께,자연,자연좋은곳,제주권   \n",
       "21030  문화시설,문화예술,문화예술공간,미술관,복합문화공간,산책하기좋은곳,실내여행지,연인과함...   \n",
       "21031  가족여행,관광지,바다풍경,바다풍경여행,아이와함께,여름방학가볼만한곳,여름여행,여름휴가...   \n",
       "21032  걷기길,관광지,나들이,당일치기여행,산책길,산책코스,산책하기,산책하기좋은곳,신산공원,...   \n",
       "21033  가족여행,국립제주박물관,문화시설,미세먼지_피하는_실내여행,실내관광지,실내여행지,아이...   \n",
       "\n",
       "                                                  detail        lat  \\\n",
       "0                                             부대시설:무선인터넷  37.593186   \n",
       "1                                              화장실:남녀 구분  37.596061   \n",
       "2                                       화장실:있음(남/녀 구분)\\n  37.516211   \n",
       "3                                      화장실:업소내, 남녀공용 화장실  37.563222   \n",
       "4                                         화장실:남/녀 화장실 구분  37.559581   \n",
       "...                                                  ...        ...   \n",
       "21029                                           입 장 료:무료  33.258440   \n",
       "21030  대관안내:[대관시설] 기획전시실(대), 기획전시실(소), 시민갤러리, 강당, 세미나...  33.452549   \n",
       "21031                                      화장실:있음(남/녀구분)  33.240700   \n",
       "21032                                      화장실:있음(남/녀구분)  33.505280   \n",
       "21033                                    예약안내:단체관람시 사전예약  33.513410   \n",
       "\n",
       "              lon                                                 tf  \n",
       "0      126.913862  백련산맛집,봉희설렁탕,불광천가로수길맛집,새절역맛집,설렁탕맛집,설렁탕맛집,음식설렁탕,...  \n",
       "1      126.918784  벙구갈비,벙구갈비응암점,은평구맛집,은평구맛집,음식,응암동맛집,응암역맛집수제갈비 (3...  \n",
       "2      127.017402                 서초국밥,서초설렁탕,서초수육,서초영동설렁탕,영동설렁탕,음식국밥  \n",
       "3      127.015115              떡볶이,마복림떡볶이,맛집,서울맛집추천,신당동맛집,음식떡볶이 / 튀김  \n",
       "4      127.005108  데이트,베이커리,복고풍,신선한,옛날맛,옛날빵,옛날빵집,옛스러운분위기,음식,체인점모나...  \n",
       "...           ...                                                ...  \n",
       "21029  126.352993                                                NaN  \n",
       "21030  126.489752                                                NaN  \n",
       "21031  126.333515                                                NaN  \n",
       "21032  126.533792                                                NaN  \n",
       "21033  126.548912                                                NaN  \n",
       "\n",
       "[21034 rows x 22 columns]"
      ]
     },
     "execution_count": 3,
     "metadata": {},
     "output_type": "execute_result"
    }
   ],
   "source": [
    "df"
   ]
  },
  {
   "cell_type": "code",
   "execution_count": 9,
   "metadata": {},
   "outputs": [],
   "source": [
    "df = df.fillna('')"
   ]
  },
  {
   "cell_type": "code",
   "execution_count": 10,
   "metadata": {},
   "outputs": [
    {
     "name": "stdout",
     "output_type": "stream",
     "text": [
      "Unnamed: 0     0\n",
      "id             0\n",
      "city           0\n",
      "cityCode       0\n",
      "contentType    0\n",
      "title          0\n",
      "catchtitle     0\n",
      "overView       0\n",
      "treatMenu      0\n",
      "conLike        0\n",
      "conRead        0\n",
      "conShare       0\n",
      "imgPath        0\n",
      "addr           0\n",
      "info           0\n",
      "parking        0\n",
      "useTime        0\n",
      "tagName        0\n",
      "detail         0\n",
      "lat            0\n",
      "lon            0\n",
      "tf             0\n",
      "dtype: int64\n"
     ]
    }
   ],
   "source": [
    "print(df.isna().sum())"
   ]
  },
  {
   "cell_type": "code",
   "execution_count": 15,
   "metadata": {},
   "outputs": [
    {
     "ename": "ValueError",
     "evalue": "Iterable over raw text documents expected, string object received.",
     "output_type": "error",
     "traceback": [
      "\u001b[0;31m---------------------------------------------------------------------------\u001b[0m",
      "\u001b[0;31mValueError\u001b[0m                                Traceback (most recent call last)",
      "\u001b[1;32m/home/doxg/code/DP_Service/python/test.ipynb Cell 8\u001b[0m line \u001b[0;36m7\n\u001b[1;32m      <a href='vscode-notebook-cell://wsl%2Bubuntu/home/doxg/code/DP_Service/python/test.ipynb#X10sdnNjb2RlLXJlbW90ZQ%3D%3D?line=4'>5</a>\u001b[0m B \u001b[39m=\u001b[39m [i \u001b[39mfor\u001b[39;00m i \u001b[39min\u001b[39;00m okt\u001b[39m.\u001b[39mmorphs(b) \u001b[39mif\u001b[39;00m \u001b[39mlen\u001b[39m(i) \u001b[39m>\u001b[39m\u001b[39m1\u001b[39m]\n\u001b[1;32m      <a href='vscode-notebook-cell://wsl%2Bubuntu/home/doxg/code/DP_Service/python/test.ipynb#X10sdnNjb2RlLXJlbW90ZQ%3D%3D?line=5'>6</a>\u001b[0m vectorizer \u001b[39m=\u001b[39m TfidfVectorizer()\n\u001b[0;32m----> <a href='vscode-notebook-cell://wsl%2Bubuntu/home/doxg/code/DP_Service/python/test.ipynb#X10sdnNjb2RlLXJlbW90ZQ%3D%3D?line=6'>7</a>\u001b[0m text \u001b[39m=\u001b[39m vectorizer_spot\u001b[39m.\u001b[39;49mtransform(a)\n\u001b[1;32m      <a href='vscode-notebook-cell://wsl%2Bubuntu/home/doxg/code/DP_Service/python/test.ipynb#X10sdnNjb2RlLXJlbW90ZQ%3D%3D?line=8'>9</a>\u001b[0m cosine_similarity(text, matrix_spot)\n",
      "File \u001b[0;32m~/.pyenv/versions/3.8.18/lib/python3.8/site-packages/sklearn/feature_extraction/text.py:2163\u001b[0m, in \u001b[0;36mTfidfVectorizer.transform\u001b[0;34m(self, raw_documents)\u001b[0m\n\u001b[1;32m   2146\u001b[0m \u001b[39m\u001b[39m\u001b[39m\"\"\"Transform documents to document-term matrix.\u001b[39;00m\n\u001b[1;32m   2147\u001b[0m \n\u001b[1;32m   2148\u001b[0m \u001b[39mUses the vocabulary and document frequencies (df) learned by fit (or\u001b[39;00m\n\u001b[0;32m   (...)\u001b[0m\n\u001b[1;32m   2159\u001b[0m \u001b[39m    Tf-idf-weighted document-term matrix.\u001b[39;00m\n\u001b[1;32m   2160\u001b[0m \u001b[39m\"\"\"\u001b[39;00m\n\u001b[1;32m   2161\u001b[0m check_is_fitted(\u001b[39mself\u001b[39m, msg\u001b[39m=\u001b[39m\u001b[39m\"\u001b[39m\u001b[39mThe TF-IDF vectorizer is not fitted\u001b[39m\u001b[39m\"\u001b[39m)\n\u001b[0;32m-> 2163\u001b[0m X \u001b[39m=\u001b[39m \u001b[39msuper\u001b[39;49m()\u001b[39m.\u001b[39;49mtransform(raw_documents)\n\u001b[1;32m   2164\u001b[0m \u001b[39mreturn\u001b[39;00m \u001b[39mself\u001b[39m\u001b[39m.\u001b[39m_tfidf\u001b[39m.\u001b[39mtransform(X, copy\u001b[39m=\u001b[39m\u001b[39mFalse\u001b[39;00m)\n",
      "File \u001b[0;32m~/.pyenv/versions/3.8.18/lib/python3.8/site-packages/sklearn/feature_extraction/text.py:1428\u001b[0m, in \u001b[0;36mCountVectorizer.transform\u001b[0;34m(self, raw_documents)\u001b[0m\n\u001b[1;32m   1412\u001b[0m \u001b[39m\u001b[39m\u001b[39m\"\"\"Transform documents to document-term matrix.\u001b[39;00m\n\u001b[1;32m   1413\u001b[0m \n\u001b[1;32m   1414\u001b[0m \u001b[39mExtract token counts out of raw text documents using the vocabulary\u001b[39;00m\n\u001b[0;32m   (...)\u001b[0m\n\u001b[1;32m   1425\u001b[0m \u001b[39m    Document-term matrix.\u001b[39;00m\n\u001b[1;32m   1426\u001b[0m \u001b[39m\"\"\"\u001b[39;00m\n\u001b[1;32m   1427\u001b[0m \u001b[39mif\u001b[39;00m \u001b[39misinstance\u001b[39m(raw_documents, \u001b[39mstr\u001b[39m):\n\u001b[0;32m-> 1428\u001b[0m     \u001b[39mraise\u001b[39;00m \u001b[39mValueError\u001b[39;00m(\n\u001b[1;32m   1429\u001b[0m         \u001b[39m\"\u001b[39m\u001b[39mIterable over raw text documents expected, string object received.\u001b[39m\u001b[39m\"\u001b[39m\n\u001b[1;32m   1430\u001b[0m     )\n\u001b[1;32m   1431\u001b[0m \u001b[39mself\u001b[39m\u001b[39m.\u001b[39m_check_vocabulary()\n\u001b[1;32m   1433\u001b[0m \u001b[39m# use the same matrix-building strategy as fit_transform\u001b[39;00m\n",
      "\u001b[0;31mValueError\u001b[0m: Iterable over raw text documents expected, string object received."
     ]
    }
   ],
   "source": [
    "okt = Okt()\n",
    "a = \"샥스핀, 식사류해삼류,단품 요리 바닷가재 등  짬뽕 등  등\"\n",
    "b = \"샥스핀, 해삼류, 바닷가재 등 단품 요리, 짜장면, 짬뽕 등 식사류 등\"\n",
    "A = [i for i in okt.morphs(a) if len(i) >1]\n",
    "B = [i for i in okt.morphs(b) if len(i) >1]\n",
    "vectorizer = TfidfVectorizer()\n",
    "text = vectorizer_spot.transform(a)\n",
    "\n",
    "cosine_similarity(text, matrix_spot)"
   ]
  },
  {
   "cell_type": "code",
   "execution_count": 11,
   "metadata": {},
   "outputs": [
    {
     "data": {
      "text/plain": [
       "'가족여행,걷기길,관광지,데이트코스,반려동물동반여행지,생태관광지,서울숲,수도권,수도권반려동물여행지,아이와함께,연인과함께,연중무휴,피크닉,한국관광100선,휴식공간,휴식여행,휴식하기,휴식하기좋은곳'"
      ]
     },
     "execution_count": 11,
     "metadata": {},
     "output_type": "execute_result"
    }
   ],
   "source": [
    "df[df['contentType'] != 39]['tagName'][195]"
   ]
  },
  {
   "cell_type": "code",
   "execution_count": 23,
   "metadata": {},
   "outputs": [],
   "source": [
    "df['city'] = '전체'"
   ]
  },
  {
   "cell_type": "code",
   "execution_count": 25,
   "metadata": {},
   "outputs": [],
   "source": [
    "df2 = pd.read_csv('./travel_spot_v1.csv')\n",
    "df2['tf'] = df2['tagName'] + df2['treatMenu']"
   ]
  },
  {
   "cell_type": "code",
   "execution_count": 32,
   "metadata": {},
   "outputs": [],
   "source": [
    "df3 = pd.concat([df,df2], axis=0, ignore_index=True)"
   ]
  },
  {
   "cell_type": "code",
   "execution_count": 33,
   "metadata": {},
   "outputs": [],
   "source": [
    "df3 = df3[['id', 'city', 'cityCode', 'contentType', 'title',\n",
    "       'catchtitle', 'overView', 'treatMenu', 'conLike', 'conRead', 'conShare',\n",
    "       'imgPath', 'addr', 'info', 'parking', 'useTime', 'tagName', 'detail',\n",
    "       'lat', 'lon', 'tf']]"
   ]
  },
  {
   "cell_type": "code",
   "execution_count": 36,
   "metadata": {},
   "outputs": [],
   "source": [
    "df3.to_csv('travel_spot_v1.csv')"
   ]
  },
  {
   "cell_type": "code",
   "execution_count": 37,
   "metadata": {},
   "outputs": [],
   "source": [
    "spot_df = df3[df3['contentType'] != 39]\n",
    "food_df = df3[df3['contentType'] == 39]"
   ]
  },
  {
   "cell_type": "code",
   "execution_count": 38,
   "metadata": {},
   "outputs": [
    {
     "data": {
      "text/plain": [
       "(9268, 11766, 21034)"
      ]
     },
     "execution_count": 38,
     "metadata": {},
     "output_type": "execute_result"
    }
   ],
   "source": [
    "len(spot_df), len(food_df), len(df3)"
   ]
  },
  {
   "cell_type": "code",
   "execution_count": 39,
   "metadata": {},
   "outputs": [],
   "source": [
    "vectorizer_spot = TfidfVectorizer()\n",
    "\n",
    "tag_list = [' '.join([j for j in okt.morphs(i) if len(j) > 1]) for i in spot_df['tagName'].tolist()]\n",
    "matrix_spot = vectorizer_spot.fit_transform(tag_list)\n",
    "\n",
    "# 각 지역에 대한 TF-IDF 행렬 계산\n",
    "city_matrices_spot = {}    \n",
    "for city in spot_df['city'].unique():\n",
    "    city_df = spot_df[spot_df['city'] == city]\n",
    "    city_tag_list = [' '.join([j for j in okt.morphs(i) if len(j) > 1]) for i in city_df['tagName'].tolist()]\n",
    "    city_matrices_spot[city] = vectorizer_spot.transform(city_tag_list)"
   ]
  },
  {
   "cell_type": "code",
   "execution_count": 5,
   "metadata": {},
   "outputs": [],
   "source": [
    "vectorizer_food = TfidfVectorizer()\n",
    "\n",
    "tag_list = [' '.join([j for j in okt.morphs(str(i)) if len(j) > 1]) for i in food_df['tf'].tolist()]\n",
    "matrix_food = vectorizer_food.fit_transform(tag_list)\n",
    "\n",
    "# 각 지역에 대한 TF-IDF 행렬 계산\n",
    "city_matrices_food = {}    \n",
    "for city in food_df['city'].unique():\n",
    "    city_df = food_df[food_df['city'] == city]\n",
    "    city_tag_list = [' '.join([j for j in okt.morphs(str(i)) if len(j) > 1]) for i in city_df['tf'].tolist()]\n",
    "    city_matrices_food[city] = vectorizer_food.transform(city_tag_list)"
   ]
  },
  {
   "cell_type": "code",
   "execution_count": 6,
   "metadata": {},
   "outputs": [],
   "source": [
    "\n",
    "# 저장\n",
    "with open('travel_model_v2.pkl', 'wb') as file:\n",
    "        pickle.dump({\"spot\":{\n",
    "                \"vectorizer\": vectorizer_spot,\n",
    "                \"matrix\": matrix_spot,\n",
    "                \"city_matrices\": city_matrices_spot\n",
    "        },\"food\":{\n",
    "                \"vectorizer\": vectorizer_food,\n",
    "                \"matrix\": matrix_food,\n",
    "                \"city_matrices\": city_matrices_food\n",
    "        }}, file)"
   ]
  },
  {
   "cell_type": "code",
   "execution_count": 16,
   "metadata": {},
   "outputs": [],
   "source": [
    "with open('./travel_model_v2.pkl', 'rb') as file:\n",
    "    loaded_data = pickle.load(file)\n",
    "    \n",
    "    vectorizer_spot = loaded_data[\"spot\"][\"vectorizer\"]\n",
    "    matrix_spot = loaded_data[\"spot\"][\"matrix\"]\n",
    "    city_matrices_spot = loaded_data[\"spot\"][\"city_matrices\"]\n",
    "\n",
    "    vectorizer_food = loaded_data[\"food\"][\"vectorizer\"]\n",
    "    matrix_food = loaded_data[\"food\"][\"matrix\"]\n",
    "    city_matrices_food = loaded_data[\"food\"][\"city_matrices\"]"
   ]
  },
  {
   "cell_type": "code",
   "execution_count": null,
   "metadata": {},
   "outputs": [],
   "source": [
    "#     # 미리 계산된 해당 지역의 TF-IDF 행렬 사용\n",
    "# if question.area == '전체':\n",
    "#     city_tfidf_matrix = tfidf_matrix\n",
    "# else:\n",
    "#     city_tfidf_matrix = city_tfidf_matrices.get(question.area)\n",
    "#     df = df[df['city']== f'{question.area}']"
   ]
  },
  {
   "cell_type": "code",
   "execution_count": 35,
   "metadata": {},
   "outputs": [
    {
     "data": {
      "text/plain": [
       "<351x5323 sparse matrix of type '<class 'numpy.float64'>'\n",
       "\twith 5212 stored elements in Compressed Sparse Row format>"
      ]
     },
     "execution_count": 35,
     "metadata": {},
     "output_type": "execute_result"
    }
   ],
   "source": [
    "city_matrices_spot['충남']"
   ]
  },
  {
   "cell_type": "code",
   "execution_count": 17,
   "metadata": {},
   "outputs": [
    {
     "ename": "NameError",
     "evalue": "name 'spot_df' is not defined",
     "output_type": "error",
     "traceback": [
      "\u001b[0;31m---------------------------------------------------------------------------\u001b[0m",
      "\u001b[0;31mNameError\u001b[0m                                 Traceback (most recent call last)",
      "\u001b[1;32m/home/doxg/code/DP_Service/python/test.ipynb Cell 23\u001b[0m line \u001b[0;36m4\n\u001b[1;32m      <a href='vscode-notebook-cell://wsl%2Bubuntu/home/doxg/code/DP_Service/python/test.ipynb#X31sdnNjb2RlLXJlbW90ZQ%3D%3D?line=0'>1</a>\u001b[0m area \u001b[39m=\u001b[39m \u001b[39m'\u001b[39m\u001b[39m인천\u001b[39m\u001b[39m'\u001b[39m\n\u001b[1;32m      <a href='vscode-notebook-cell://wsl%2Bubuntu/home/doxg/code/DP_Service/python/test.ipynb#X31sdnNjb2RlLXJlbW90ZQ%3D%3D?line=1'>2</a>\u001b[0m question \u001b[39m=\u001b[39m \u001b[39m'\u001b[39m\u001b[39m캠핑\u001b[39m\u001b[39m'\u001b[39m\n\u001b[0;32m----> <a href='vscode-notebook-cell://wsl%2Bubuntu/home/doxg/code/DP_Service/python/test.ipynb#X31sdnNjb2RlLXJlbW90ZQ%3D%3D?line=3'>4</a>\u001b[0m df \u001b[39m=\u001b[39m spot_df[spot_df[\u001b[39m'\u001b[39m\u001b[39mcity\u001b[39m\u001b[39m'\u001b[39m]\u001b[39m==\u001b[39m \u001b[39mf\u001b[39m\u001b[39m'\u001b[39m\u001b[39m{\u001b[39;00marea\u001b[39m}\u001b[39;00m\u001b[39m'\u001b[39m]\n\u001b[1;32m      <a href='vscode-notebook-cell://wsl%2Bubuntu/home/doxg/code/DP_Service/python/test.ipynb#X31sdnNjb2RlLXJlbW90ZQ%3D%3D?line=5'>6</a>\u001b[0m question_tfidf \u001b[39m=\u001b[39m vectorizer_spot\u001b[39m.\u001b[39mtransform(okt\u001b[39m.\u001b[39mmorphs(\u001b[39mf\u001b[39m\u001b[39m'\u001b[39m\u001b[39m{\u001b[39;00mquestion\u001b[39m}\u001b[39;00m\u001b[39m'\u001b[39m))\n\u001b[1;32m      <a href='vscode-notebook-cell://wsl%2Bubuntu/home/doxg/code/DP_Service/python/test.ipynb#X31sdnNjb2RlLXJlbW90ZQ%3D%3D?line=7'>8</a>\u001b[0m cos_similarities \u001b[39m=\u001b[39m cosine_similarity(question_tfidf, city_matrices_spot[\u001b[39mf\u001b[39m\u001b[39m'\u001b[39m\u001b[39m{\u001b[39;00marea\u001b[39m}\u001b[39;00m\u001b[39m'\u001b[39m])\n",
      "\u001b[0;31mNameError\u001b[0m: name 'spot_df' is not defined"
     ]
    }
   ],
   "source": [
    "area = '인천'\n",
    "question = '캠핑'\n",
    "\n",
    "df = spot_df[spot_df['city']== f'{area}']\n",
    "\n",
    "question_tfidf = vectorizer_spot.transform(okt.morphs(f'{question}'))\n",
    "\n",
    "cos_similarities = cosine_similarity(question_tfidf, city_matrices_spot[f'{area}'])\n",
    "sorted_indices = np.argsort(cos_similarities[0])[::-1][:5]\n",
    "print('indices= ',len(sorted_indices))\n",
    "print('df= ', len(df))\n",
    "# 식당인 것, 아닌 \n",
    "\n",
    "index = sorted_indices[0]\n",
    "\n",
    "\n",
    "\n",
    "print(\n",
    "str(df.iloc[index]['id']),\n",
    "str(df.iloc[index]['city']),\n",
    "str(df.iloc[index]['title']),\n",
    "float(cos_similarities[0][index]),\n",
    "str(df.iloc[index]['catchtitle']))\n",
    "\n"
   ]
  },
  {
   "cell_type": "code",
   "execution_count": 70,
   "metadata": {},
   "outputs": [
    {
     "name": "stdout",
     "output_type": "stream",
     "text": [
      "indices=  5\n",
      "df=  192\n",
      "2866244 대구 루미너스 0.42204924949455175 모던한 분위기의 한우 안심 스테이크 맛집\n"
     ]
    }
   ],
   "source": [
    "area = '대구'\n",
    "question = '피자'\n",
    "\n",
    "df = food_df[food_df['city']== f'{area}']\n",
    "\n",
    "question_tfidf = vectorizer_food.transform(okt.morphs(f'{question}'))\n",
    "\n",
    "cos_similarities = cosine_similarity(question_tfidf, city_matrices_food[f'{area}'])\n",
    "sorted_indices = np.argsort(cos_similarities[0])[::-1][:5]\n",
    "print('indices= ',len(sorted_indices))\n",
    "print('df= ', len(df))\n",
    "# 식당인 것, 아닌 \n",
    "\n",
    "index = sorted_indices[0]\n",
    "\n",
    "\n",
    "\n",
    "print(\n",
    "str(df.iloc[index]['id']),\n",
    "str(df.iloc[index]['city']),\n",
    "str(df.iloc[index]['title']),\n",
    "float(cos_similarities[0][index]),\n",
    "str(df.iloc[index]['catchtitle']))\n",
    "\n"
   ]
  },
  {
   "cell_type": "code",
   "execution_count": 14,
   "metadata": {},
   "outputs": [
    {
     "data": {
      "text/plain": [
       "63"
      ]
     },
     "execution_count": 14,
     "metadata": {},
     "output_type": "execute_result"
    }
   ],
   "source": [
    "np.argsort(cos_similarities[0])[::-1][0]"
   ]
  },
  {
   "cell_type": "code",
   "execution_count": 15,
   "metadata": {},
   "outputs": [
    {
     "data": {
      "text/plain": [
       "0.30805653331899097"
      ]
     },
     "execution_count": 15,
     "metadata": {},
     "output_type": "execute_result"
    }
   ],
   "source": [
    "cos_similarities[0][63]"
   ]
  },
  {
   "cell_type": "code",
   "execution_count": 27,
   "metadata": {},
   "outputs": [],
   "source": [
    "df = pd.read_csv('./travel_spot_v1.csv', index_col=0)"
   ]
  },
  {
   "cell_type": "code",
   "execution_count": 29,
   "metadata": {},
   "outputs": [],
   "source": [
    "okt = Okt()"
   ]
  },
  {
   "cell_type": "code",
   "execution_count": 35,
   "metadata": {},
   "outputs": [
    {
     "name": "stdout",
     "output_type": "stream",
     "text": [
      "여기여기\n"
     ]
    },
    {
     "data": {
      "text/plain": [
       "352"
      ]
     },
     "execution_count": 35,
     "metadata": {},
     "output_type": "execute_result"
    }
   ],
   "source": [
    "question_area = '인천'\n",
    "question_question = '효도여행'\n",
    "\n",
    "# 미리 계산된 해당 지역의 TF-IDF 행렬 사용\n",
    "if question_area == '전체':\n",
    "    city_tfidf_matrix = tfidf_matrix\n",
    "else:\n",
    "    city_tfidf_matrix = city_tfidf_matrices.get(question_area)\n",
    "    df = df[df['city']== f'{question_area}']\n",
    "\n",
    "print('여기여기')\n",
    "\n",
    "if city_tfidf_matrix is None:\n",
    "    print(JSONResponse(content={\"error\": f\"No data found for city: {question_area}\"}, status_code=404))\n",
    "\n",
    "# 질문과 선택된 지역의 TF-IDF로 유사도 계산\n",
    "question_tfidf = tfidf_vectorizer.transform(okt.morphs(question_question))\n",
    "cos_similarities = cosine_similarity(question_tfidf, city_tfidf_matrix)\n",
    "sorted_indices = np.argsort(cos_similarities[0])[::-1]\n",
    "len(sorted_indices)"
   ]
  },
  {
   "cell_type": "code",
   "execution_count": 81,
   "metadata": {},
   "outputs": [
    {
     "data": {
      "text/plain": [
       "([111, 112, 113, 114, 115], [351, 350, 296, 288, 289])"
      ]
     },
     "execution_count": 81,
     "metadata": {},
     "output_type": "execute_result"
    }
   ],
   "source": [
    "restaurant = sorted_indices[df.iloc[sorted_indices]['contentType'].eq(39)].tolist()[:5]\n",
    "non_restaurant = sorted_indices[~df.iloc[sorted_indices]['contentType'].eq(39)].tolist()[:5]\n",
    "\n",
    "restaurant,non_restaurant"
   ]
  },
  {
   "cell_type": "code",
   "execution_count": 62,
   "metadata": {},
   "outputs": [
    {
     "data": {
      "text/plain": [
       "(352, 352)"
      ]
     },
     "execution_count": 62,
     "metadata": {},
     "output_type": "execute_result"
    }
   ],
   "source": [
    "len(df), len(sorted_indices)"
   ]
  },
  {
   "cell_type": "code",
   "execution_count": 60,
   "metadata": {},
   "outputs": [
    {
     "data": {
      "text/plain": [
       "352"
      ]
     },
     "execution_count": 60,
     "metadata": {},
     "output_type": "execute_result"
    }
   ],
   "source": [
    "len(sorted_indices)"
   ]
  },
  {
   "cell_type": "code",
   "execution_count": 52,
   "metadata": {},
   "outputs": [
    {
     "name": "stdout",
     "output_type": "stream",
     "text": [
      "여기여기2\n"
     ]
    },
    {
     "data": {
      "text/plain": [
       "([111, 112, 113, 114, 115], [351, 350, 296, 288, 289])"
      ]
     },
     "execution_count": 52,
     "metadata": {},
     "output_type": "execute_result"
    }
   ],
   "source": [
    "\n",
    "print('여기여기2')\n",
    "\n",
    "from itertools import islice\n",
    "# 식당인 것, 아닌 것\n",
    "restaurant = islice((index for index in sorted_indices if df.iloc[index]['contentType'] == 39 ), 5)\n",
    "non_restaurant = islice((index for index in sorted_indices if df.iloc[index]['contentType'] != 39 ), 5)\n",
    "\n",
    "list(restaurant), list(non_restaurant)"
   ]
  },
  {
   "cell_type": "code",
   "execution_count": 51,
   "metadata": {},
   "outputs": [
    {
     "data": {
      "text/plain": [
       "'인천'"
      ]
     },
     "execution_count": 51,
     "metadata": {},
     "output_type": "execute_result"
    }
   ],
   "source": [
    "str(df.iloc[111]['city'])"
   ]
  },
  {
   "cell_type": "code",
   "execution_count": 55,
   "metadata": {},
   "outputs": [
    {
     "data": {
      "text/plain": [
       "'2758144'"
      ]
     },
     "execution_count": 55,
     "metadata": {},
     "output_type": "execute_result"
    }
   ],
   "source": [
    "str(df.iloc[111]['id'])"
   ]
  },
  {
   "cell_type": "code",
   "execution_count": 53,
   "metadata": {},
   "outputs": [],
   "source": [
    "def add_to_similar_tags(sorted_indices,similar_tags):\n",
    "    bag = []\n",
    "    for index in sorted_indices:\n",
    "        print(\"Current index:\", index)\n",
    "        bag.append({\n",
    "            \"id\": str(df.iloc[index]['id']),\n",
    "            \"area\": str(df.iloc[index]['city'])})\n",
    "        similar_tags.append(bag)"
   ]
  },
  {
   "cell_type": "code",
   "execution_count": 78,
   "metadata": {},
   "outputs": [
    {
     "data": {
      "text/plain": [
       "<itertools.islice at 0x7f1b75d94950>"
      ]
     },
     "execution_count": 78,
     "metadata": {},
     "output_type": "execute_result"
    }
   ],
   "source": [
    "restaurant\n"
   ]
  },
  {
   "cell_type": "code",
   "execution_count": 57,
   "metadata": {},
   "outputs": [
    {
     "name": "stdout",
     "output_type": "stream",
     "text": [
      "여기여기 3\n",
      "여기여기4\n"
     ]
    },
    {
     "data": {
      "text/plain": [
       "[[], []]"
      ]
     },
     "execution_count": 57,
     "metadata": {},
     "output_type": "execute_result"
    }
   ],
   "source": [
    "\n",
    "# 결과를 저장할 리스트 초기화\n",
    "similar_tags = []\n",
    "print('여기여기 3')\n",
    "# 리스트로 추가\n",
    "def add_to_similar_tags(sorted_indices,similar_tags):\n",
    "    bag = []\n",
    "    for index in sorted_indices:\n",
    "        print(\"Current index:\", index)\n",
    "        bag.append({\n",
    "            \"id\": str(df.iloc[index]['id']),\n",
    "            \"area\": str(df.iloc[index]['city']),\n",
    "            \"title\": str(df.iloc[index]['title']),\n",
    "            \"similarity\": float(cos_similarities[0][index]),\n",
    "            \"catchtitle\": str(df.iloc[index]['catchtitle']),\n",
    "            # \"detail\": str(df.iloc[index]['detail']),\n",
    "            \"treatMenu\": str(df.iloc[index]['treatMenu']),\n",
    "            \"tagName\": str(df.iloc[index]['tagName']),\n",
    "            \"addr\": str(df.iloc[index]['addr']),\n",
    "            \"info\": str(df.iloc[index]['info']),\n",
    "            # \"lat\": str(df.iloc[index]['parking']),\n",
    "            \"useTime\": str(df.iloc[index]['useTime']),\n",
    "            \"conLike\": str(df.iloc[index]['conLike']),\n",
    "            \"conRead\": str(df.iloc[index]['conRead']),\n",
    "            \"conShare\": str(df.iloc[index]['conShare']),\n",
    "            # \"overView\": str(df.iloc[index]['overView']),\n",
    "            \"lat\": str(df.iloc[index]['lat']),\n",
    "            \"lon\": str(df.iloc[index]['lon'])\n",
    "            \n",
    "            })\n",
    "    similar_tags.append(bag)\n",
    "print('여기여기4')\n",
    "\n",
    "# 함수를 사용\n",
    "add_to_similar_tags(non_restaurant,similar_tags)\n",
    "add_to_similar_tags(restaurant,similar_tags)\n",
    "similar_tags"
   ]
  },
  {
   "cell_type": "code",
   "execution_count": 76,
   "metadata": {},
   "outputs": [
    {
     "data": {
      "text/plain": [
       "352"
      ]
     },
     "execution_count": 76,
     "metadata": {},
     "output_type": "execute_result"
    }
   ],
   "source": [
    "sorted_indices.__len__()"
   ]
  },
  {
   "cell_type": "code",
   "execution_count": 73,
   "metadata": {},
   "outputs": [
    {
     "name": "stdout",
     "output_type": "stream",
     "text": [
      "sorted_indices length: 0\n",
      "Adding bag to similar_tags: []\n",
      "sorted_indices length: 0\n",
      "Adding bag to similar_tags: []\n",
      "Final similar_tags: [[], []]\n"
     ]
    }
   ],
   "source": [
    "# 결과를 저장할 리스트 초기화\n",
    "similar_tags = []\n",
    "\n",
    "def add_to_similar_tags(sorted_indices):\n",
    "    bag = []\n",
    "    sorted_indices = list(sorted_indices)[:len(df)]\n",
    "    print(\"sorted_indices length:\", len(sorted_indices))\n",
    "    for index in sorted_indices:\n",
    "        print(\"Processing index:\", index)\n",
    "        if 0 <= index < len(df):\n",
    "            print(\"Adding to bag:\", index)\n",
    "            bag.append({\n",
    "                \"id\": str(df.iloc[index]['id']),\n",
    "                \"area\": str(df.iloc[index]['city']),\n",
    "                \"title\": str(df.iloc[index]['title']),\n",
    "                \"similarity\": float(cos_similarities[0][index]),\n",
    "                \"catchtitle\": str(df.iloc[index]['catchtitle']),\n",
    "                \"treatMenu\": str(df.iloc[index]['treatMenu']),\n",
    "                \"tagName\": str(df.iloc[index]['tagName']),\n",
    "                \"addr\": str(df.iloc[index]['addr']),\n",
    "                \"info\": str(df.iloc[index]['info']),\n",
    "                \"useTime\": str(df.iloc[index]['useTime']),\n",
    "                \"conLike\": str(df.iloc[index]['conLike']),\n",
    "                \"conRead\": str(df.iloc[index]['conRead']),\n",
    "                \"conShare\": str(df.iloc[index]['conShare']),\n",
    "                \"lat\": str(df.iloc[index]['lat']),\n",
    "                \"lon\": str(df.iloc[index]['lon'])\n",
    "            })\n",
    "        else:\n",
    "            print(\"Index out of bounds:\", index)\n",
    "    print(\"Adding bag to similar_tags:\", bag)\n",
    "    similar_tags.append(bag)\n",
    "\n",
    "# 함수를 사용\n",
    "add_to_similar_tags(non_restaurant)\n",
    "add_to_similar_tags(restaurant)\n",
    "\n",
    "print(\"Final similar_tags:\", similar_tags)\n"
   ]
  }
 ],
 "metadata": {
  "kernelspec": {
   "display_name": "Python 3",
   "language": "python",
   "name": "python3"
  },
  "language_info": {
   "codemirror_mode": {
    "name": "ipython",
    "version": 3
   },
   "file_extension": ".py",
   "mimetype": "text/x-python",
   "name": "python",
   "nbconvert_exporter": "python",
   "pygments_lexer": "ipython3",
   "version": "3.8.18"
  }
 },
 "nbformat": 4,
 "nbformat_minor": 2
}
